{
 "cells": [
  {
   "cell_type": "markdown",
   "metadata": {},
   "source": [
    "# Document deduplication using Locality Sensitive Hashing (LSH) with minhash\n",
    "\n",
    "This notebook gives an overview of locality sensitive hashing for the purpose of deduplicating large collections of documents. The associated code is available from https://github.com/mattilyra/lsh.\n",
    "\n",
    "Finding exact duplicates is trivially easy (just use `md5`) but finding near duplicates is much harder. Many document collections from tweets to news text to forum discussions contain documents that are almost exactly the same, with only a few sentences or characters that differ. A hash function such as `md5` won't find these near duplicates as they are not the same on the byte level, but rather on the semantic level. Finding these semantic duplicates can be done for instance by using n-gram shingles and computing the Jaccard similarity of the shingle sets. This is computationally very expensive as the similarit between all pairs of documents needs to be computed. The <cite>Reuters Corpus Version 1.0 (RCV1)</cite> [1] ~810k documents, that's $810000^2 = 656100000000$ comparisons, at 1 microsecond per comparison that's ~455 days to go through all of them. The <cite>Amazon Product Data</cite> [2] corpus is what could be called webscale ~140 million product reviews. I don't even want to think about how long that would take."
   ]
  },
  {
   "cell_type": "markdown",
   "metadata": {},
   "source": [
    "Locality senstive hashing (LSH) relies on two different methods, first a hash fingerprint of each document is created and then the locality sensitive hashing is applied to that fingerprint. If the fingerprint is generated using the `minhash` algorithm then the probability of a hash collision is equal to the Jaccard distance of the documents. There are other hash functions that correspond to the cosine similarity for instance, but I won't deal with those here.\n",
    "\n",
    "## Document similarity and minhash\n",
    "\n",
    "Minhash is a hash function that computes the lowest hash value for a set of objects to be hashes. In the case of comparing document similarities the set of objects is word or character ngrams taken over a sliding window from the document - also known as shingles. The set of shingles allows us to compute the document similarity (defined in this case as Jaccard similarity) between a pair of documents.\n",
    "\n",
    "#### For instance:"
   ]
  },
  {
   "cell_type": "code",
   "execution_count": 1,
   "metadata": {
    "collapsed": false
   },
   "outputs": [
    {
     "data": {
      "text/plain": [
       "['Lorem',\n",
       " 'orem ',\n",
       " 'rem I',\n",
       " 'em Ip',\n",
       " 'm Ips',\n",
       " ' Ipsu',\n",
       " 'Ipsum',\n",
       " 'psum ',\n",
       " 'sum d',\n",
       " 'um do',\n",
       " 'm dol',\n",
       " ' dolo',\n",
       " 'dolor',\n",
       " 'olor ',\n",
       " 'lor s',\n",
       " 'or si',\n",
       " 'r sit',\n",
       " ' sit ',\n",
       " 'sit a',\n",
       " 'it am',\n",
       " 't ame']"
      ]
     },
     "execution_count": 1,
     "metadata": {},
     "output_type": "execute_result"
    }
   ],
   "source": [
    "document = 'Lorem Ipsum dolor sit amet'\n",
    "# shingle and discard the last 5 as these are just the last n<5 characters from the document\n",
    "shingles = [document[i:i+5] for i in range(len(document))][:-5]\n",
    "shingles"
   ]
  },
  {
   "cell_type": "code",
   "execution_count": 2,
   "metadata": {
    "collapsed": false
   },
   "outputs": [
    {
     "data": {
      "text/plain": [
       "0.45652173913043476"
      ]
     },
     "execution_count": 2,
     "metadata": {},
     "output_type": "execute_result"
    }
   ],
   "source": [
    "other_document = 'Lorem Ipsum dolor sit amet is how dummy text starts'\n",
    "# shingle and discard the last 5 as these are just the last n<5 characters from the document\n",
    "other_shingles = [other_document[i:i+5] for i in range(len(other_document))][:-5]\n",
    "\n",
    "# Jaccard distance is the size of set intersection divided by the size of set union\n",
    "len(set(shingles) & set(other_shingles)) / len(set(shingles) | set(other_shingles))"
   ]
  },
  {
   "cell_type": "markdown",
   "metadata": {},
   "source": [
    "As we can see these two documents are not very similar, at least in terms of their 3-gram shingle Jaccard similarity. That aside the problem with these shigles is that they do not allow us to compute the similarities of large numbers of documents very easily, we have to do an all pairs comparison. To get around that we can use locality sensitive hashing, but before LSH we'll turn the documents into a more manageable and uniform representation: a fixed length _fingerprint_ comprised of $k$ `minhash`es.\n",
    "\n",
    "The other problem with the shingles is that every document has a different number of shingles depending on the length of the document, for a corpus of any size predicting the memory requirements for an all pairs comparison is not possible as each document will consume a variable amount of memory. For LSH we would like to have a fixed length representation of the documents without changing the semantics of document similarity. This is where `minhash`ing comes in. It turns out that the probability of a hash collision for a `minhash` is exactly the Jaccard similarity of two sets. This can be seen by considering the two sets of shingles as a matrix. For two dummy documents the shingles could be represented as the table below (the zeros and ones indicate if a shingle is present in the document or not). Notice that the Jaccard similarity of the documents is `2/5`.\n",
    "\n",
    "<table>\n",
    "<th colspan=4><center>Document Shingles</center></th>\n",
    "<tr> <td>row</td><td>shingle ID</td><td>Doc 1</td><td>Doc 2</td> </tr>\n",
    "<tr> <td>1</td><td>1</td><td>0</td><td>1</td> </tr>\n",
    "<tr> <td>2</td><td>2</td><td>1</td><td>1</td> </tr>\n",
    "<tr> <td>3</td><td>3</td><td>0</td><td>1</td> </tr>\n",
    "<tr> <td>4</td><td>4</td><td>1</td><td>0</td> </tr>\n",
    "<tr> <td>5</td><td>5</td><td>1</td><td>1</td> </tr>\n",
    "<tr> <td>6</td><td>6</td><td>0</td><td>0</td> </tr>\n",
    "</table>\n",
    "\n",
    "The `minhash` corresponds to a random permutation of the rows and gives back the row number where the first non zero entry is found. For the above table the `minhash` for documents one and two would thus be `2` and `1` respectively - meaning that the documents are not similar. The above table however is just one ordering of the shingles of each document. A different random permutation of the rows will give a different `minhash`, in this case `2` and `2`, making the documents similar.\n",
    "\n",
    "<table>\n",
    "<th colspan=4><center>Document Shingles</center></th>\n",
    "<tr> <td>row</td><td>shingle ID</td><td>Doc 1</td><td>Doc 2</td> </tr>\n",
    "<tr> <td>1</td><td>6</td><td>0</td><td>0</td> </tr>\n",
    "<tr> <td>2</td><td>2</td><td>1</td><td>1</td> </tr>\n",
    "<tr> <td>3</td><td>3</td><td>0</td><td>1</td> </tr>\n",
    "<tr> <td>4</td><td>1</td><td>0</td><td>1</td> </tr>\n",
    "<tr> <td>5</td><td>4</td><td>1</td><td>0</td> </tr>\n",
    "<tr> <td>6</td><td>5</td><td>1</td><td>1</td> </tr>\n",
    "</table>\n",
    "\n",
    "A random permutation of the rows can produce any of `6! == 720` ([factorial](https://en.wikipedia.org/wiki/Factorial)) different orderings. However we only care about the orderings for which the two columns have the same lowest row number with a 1, that is `shingle ID` $\\in \\{2, 5\\}$. Since the rows with zeros on them don't count, there are 5 rows with a one on it in any column, and two rows with a 1 in both columns. All a random permutation can therefore do is put two out of the five rows in the lowest row number, in other words produce a hash collision with a probability `2/5`.\n",
    "\n",
    "The above explanation follows Chapter 3 of <cite>Mining Massive Datasets</cite> [3]. An in depth explanation for why and how `minhash` works is provided there along with other interesting hash functions.\n",
    "\n",
    "Applying `minhash` gives us a fixed length $k$ (you pick the length) representation of each document such that the probability of a hash collision is equal to the Jaccard similarity of any pair. This being a probabilitic measure you're not guaranteed to get a collision. For Lorem Ipsum documents above and $k=100$ we get similarities that are roughly the same as the Jaccard similarity."
   ]
  },
  {
   "cell_type": "code",
   "execution_count": 3,
   "metadata": {
    "collapsed": false
   },
   "outputs": [
    {
     "name": "stdout",
     "output_type": "stream",
     "text": [
      "0.53\n",
      "0.51\n",
      "0.52\n",
      "0.57\n",
      "0.46\n"
     ]
    }
   ],
   "source": [
    "from lsh import minhash\n",
    "\n",
    "for _ in range(5):\n",
    "    hasher = minhash.MinHasher(seeds=100, char_ngram=5)\n",
    "    fingerprint0 = hasher.fingerprint('Lorem Ipsum dolor sit amet'.encode('utf8'))\n",
    "    fingerprint1 = hasher.fingerprint('Lorem Ipsum dolor sit amet is how dummy text starts'.encode('utf8'))\n",
    "    print(sum(fingerprint0[i] in fingerprint1 for i in range(hasher.seeds)) / hasher.seeds)"
   ]
  },
  {
   "cell_type": "markdown",
   "metadata": {},
   "source": [
    "Increasing the length of the fingerprint from $k=100$ to $k=1000$ reduces the variance between random initialisations of the `minhash`er."
   ]
  },
  {
   "cell_type": "code",
   "execution_count": 136,
   "metadata": {
    "collapsed": false
   },
   "outputs": [
    {
     "name": "stdout",
     "output_type": "stream",
     "text": [
      "0.449\n",
      "0.472\n",
      "0.467\n",
      "0.464\n",
      "0.463\n"
     ]
    }
   ],
   "source": [
    "for _ in range(5):\n",
    "    hasher = minhash.MinHasher(seeds=1000, char_ngram=5)\n",
    "    fingerprint0 = hasher.fingerprint('Lorem Ipsum dolor sit amet'.encode('utf8'))\n",
    "    fingerprint1 = hasher.fingerprint('Lorem Ipsum dolor sit amet is how dummy text starts'.encode('utf8'))\n",
    "    print(sum(fingerprint0[i] in fingerprint1 for i in range(hasher.seeds)) / hasher.seeds)"
   ]
  },
  {
   "cell_type": "markdown",
   "metadata": {},
   "source": [
    "Increasing the fingerprint length however comes at the cost of increased memory usage and more time spent computing the `minhash`es. For a collection of documents we are still left with comparing all pairs, when that collection grows larger this becomes a very real problem. Queue LSH."
   ]
  },
  {
   "cell_type": "markdown",
   "metadata": {},
   "source": [
    "## Locality sensitive hashing\n",
    "\n",
    "The idea behind locality sensitive hashing is to take the document fingerprints and chop them up into pieces, each piece being some number of `minhash`es. Since a single `minhash` (single entry in the fingerprint) has a probability equal to the Jaccard similarity of producing a collision, each chopped up portion of the fingerprint should as well. This chopped up portion is the `locality` in locality sensitive hashing, the `hashing` is just a hash function (any hash function) which produces a `bin ID` from the fingerprint `locality` being hashed. Each bin holds the entire fingerprint (with optional meta information) of the document and that of other documents that hash to the same `bin`.\n",
    "\n",
    "Let's say our fingerprint has 100 `minhash`es in it and we chop the fingerprints into 10 pieces. Each piece of each fingerprint therefore contains 10 `minhash`es, we hash those again (not using `minhash` this time) to get a `bin ID` and store the whole fingerprint in every bin each of the pieces happens to land in.\n",
    "\n",
    "When we want to know which documents are similar to a query document, we look in all the bins the query document lands in, any document in any of the bins is a potential duplicate. Comparing the full fingerprint of all documents in the bin or computing the actual Jaccard similarity between the shingle sets yields the final similarity of documents. Crucially _since not all documents will land in the same bins we've reduced the number of comparisons needed to find similar or near duplicate documents_.\n",
    "\n",
    "The number of pieces to chop each fingerprint into and the size of each piece are parameters that need to be set. These should be set such that $num\\_pieces \\times size\\_of\\_piece == num\\_minhashes$ - this makes sense since having computed all the $N$ `minhash`es we want to use all of them in the locality sensitive hashing part. There is however a further issue that needs to be considered when setting the parameters; the relation between the number and size of the pieces and the probability of LSH \"finding\" a pair of similar documents.\n",
    "\n",
    "LSH is a probabilistic model which means that it won't always do the \"right thing\". Using LSH one needs to consider the similarity of a pair of documents (in this case the Jaccard similarity) and the probability that LSH will find that pair to be similar (a true positive, i.e. a correctly discovered duplicate pair). The pair of documents LSH finds to be similar should be thought of as _candidate_ duplicates. The higher the probability, or guarantee, that LSH will find a pair of documents to be similar the more false positives the model will also produce, that is candidate duplicates that are not in fact duplicates."
   ]
  },
  {
   "cell_type": "code",
   "execution_count": 16,
   "metadata": {
    "collapsed": true
   },
   "outputs": [],
   "source": [
    "%matplotlib inline\n",
    "\n",
    "import numpy as np\n",
    "import pandas as pd\n",
    "import seaborn as sns\n",
    "from matplotlib import pyplot as plt\n",
    "\n",
    "ix = pd.IndexSlice"
   ]
  },
  {
   "cell_type": "markdown",
   "metadata": {},
   "source": [
    "### <a id='bands_rows'>How setting LSH parameters affects finding similar documents</a>"
   ]
  },
  {
   "cell_type": "code",
   "execution_count": 4,
   "metadata": {
    "collapsed": false
   },
   "outputs": [
    {
     "data": {
      "image/png": "[encoded data removed]",
      "text/plain": [
       "<matplotlib.figure.Figure at 0x10b8d3e80>"
      ]
     },
     "metadata": {},
     "output_type": "display_data"
    }
   ],
   "source": [
    "df = pd.DataFrame(data=[(2, 50), (50, 2), (10, 10), (5, 20), (20, 5)], columns=['pieces', 'size'])\n",
    "df['hashes'] = df['pieces'] * df['size']\n",
    "for pr in np.linspace(0, 1, 200):\n",
    "    df[pr] = 1 - (1 - pr**df['size']) ** df['pieces']\n",
    "\n",
    "df = pd.pivot_table(df, index=['hashes', 'pieces', 'size'])\n",
    "\n",
    "ax = df.T.plot(figsize=(10, 7), title='Probability of LSH finding a candidate pair');\n",
    "plt.ylabel('p(candidate | Jaccad)');\n",
    "plt.xlabel('Jaccard similarity');\n",
    "plt.legend(list(df.loc[ix[100]].index),\n",
    "           bbox_to_anchor=(1., 1, 1., 0), loc='upper left', fontsize=12, \n",
    "           ncol=1, borderaxespad=0., title='Each line shows the\\nfingerprint chopped\\ninto (pieces, size)\\n');"
   ]
  },
  {
   "cell_type": "markdown",
   "metadata": {},
   "source": [
    "The figure shows the probability that LSH with `minhash` will \"find\" a pair of similar documents (`y-axis`) given the Jaccard similarity (`x-axis`) of those documents for different settings for LSH. Each of the five lines correspond to different settings, the number of hashes is always 100 so we're just changing the number of pieces to chop each fingerprint into (and the size of those pieces, although that becomes determined by setting the number of hashes).\n",
    "\n",
    "Creating just two pieces with 50 rows each - that is two localities, each with a size of 50 `minhash`es - yields an LSH model (<font color=#4C72B0>blue line</font>) that tries really really hard not to find documents to be similar. This LSH model will find 80% of documents whose actual Jaccard similarity is over 95%. Documents whose Jaccard similarity is 80% will hardly ever be found to be similar.\n",
    "\n",
    "Creating 5 pieces with 20 rows (<font color=#55A868>green line</font>) each is slightly more relaxed. The above graph should give you a pretty good idea how to set the parameters for your use case so that you can be reasonably certain that LSH will generate acceptable candidate pairs.\n",
    "\n",
    "-----------\n",
    "\n",
    "## Deduplicating the Reuters RCV1 corpus [1]\n",
    "\n",
    "The Reuters Corpus, Volume 1 (RCV1) corpus is a commonly used resource for various NLP tasks, especially document classification. It was made available in 2000 by Reuters Ltd and consists of ~810,000 english language news stories collected between August 20th 1996 and August 19th 1997 from the Reuters news wire.\n",
    "\n",
    "I've preprocessed the corpus so that it is all in a single file, one line per document. Each line has the format:\n",
    "\n",
    "    ITEMID<TAB>HEADLINE<SPACE>TEXT"
   ]
  },
  {
   "cell_type": "code",
   "execution_count": 94,
   "metadata": {
    "collapsed": false
   },
   "outputs": [
    {
     "name": "stdout",
     "output_type": "stream",
     "text": [
      "  806791 ../data/rcv1/headline.text.txt\r\n"
     ]
    }
   ],
   "source": [
    "!wc -l ../data/rcv1/headline.text.txt"
   ]
  },
  {
   "cell_type": "markdown",
   "metadata": {},
   "source": [
    "Some duplicate items are present in the corpus so let's see what happens when we apply LSH to it. First a helper function that takes a file pointer and some parameters for `minhash` and LSH and then finds duplicates."
   ]
  },
  {
   "cell_type": "code",
   "execution_count": 65,
   "metadata": {
    "collapsed": false
   },
   "outputs": [],
   "source": [
    "import itertools\n",
    "\n",
    "from lsh import lsh, minhash # https://github.com/mattilyra/lsh\n",
    "\n",
    "# a pure python shingling function that will be used in comparing\n",
    "# LSH to true Jaccard similarities\n",
    "def shingles(text, char_ngram=5):\n",
    "    return set(text[head:head + char_ngram] for head in range(0, len(text) - char_ngram))\n",
    "\n",
    "\n",
    "def jaccard(set_a, set_b):\n",
    "    intersection = set_a & set_b\n",
    "    union = set_a | set_b\n",
    "    return len(intersection) / len(union)\n",
    "\n",
    "\n",
    "def candidate_duplicates(document_feed, char_ngram=5, seeds=100, bands=5, hashbytes=4):\n",
    "    char_ngram = 5\n",
    "    sims = []\n",
    "    hasher = minhash.MinHasher(seeds=seeds, char_ngram=char_ngram, hashbytes=hashbytes)\n",
    "    if seeds % bands != 0:\n",
    "        raise ValueError('Seeds has to be a multiple of bands. {} % {} != 0'.format(seeds, bands))\n",
    "    \n",
    "    cache = lsh.Cache(bands=bands, hasher=hasher)\n",
    "    for i, line in enumerate(document_feed):\n",
    "        line = line.decode('utf8')\n",
    "        docid, headline_text = line.split('\\t', 1)\n",
    "        fingerprint = hasher.fingerprint(headline_text.encode('utf8'))\n",
    "        \n",
    "        # in addition to storing the fingerpring store the line\n",
    "        # number and document ID to help analysis later on\n",
    "        cache.update(fingerprint, meta=(i, docid))\n",
    "\n",
    "    candidate_pairs = set()\n",
    "    for b in cache.bins:\n",
    "        for bucket_id in b:\n",
    "            if len(b[bucket_id]) > 1:\n",
    "                pairs_ = set(itertools.combinations(b[bucket_id], r=2))\n",
    "                candidate_pairs.update(pairs_)\n",
    "    \n",
    "    return candidate_pairs"
   ]
  },
  {
   "cell_type": "code",
   "execution_count": 62,
   "metadata": {
    "collapsed": false
   },
   "outputs": [],
   "source": [
    "hasher = minhash.MinHasher(seeds=100, char_ngram=5, hashbytes=4)\n",
    "cache = lsh.Cache(bands=10, hasher=hasher)\n",
    "with open('../data/rcv1/headline.text.txt', 'rb') as fh:\n",
    "    feed = itertools.islice(fh, 100)\n",
    "    for line in feed:\n",
    "        cache.update(hasher.fingerprint(line))\n",
    "\n",
    "p = set()\n",
    "for b in cache.bins:\n",
    "    for bucket_id in b:\n",
    "        if len(b[bucket_id]) > 1:\n",
    "            pairs_ = set(itertools.combinations(b[bucket_id], r=2))\n",
    "            p.update(pairs_)"
   ]
  },
  {
   "cell_type": "markdown",
   "metadata": {},
   "source": [
    "----------\n",
    "Now let's run LSH on a few different paramter settings and see what the results look like. To save some time I'm only using the first 1000 documents."
   ]
  },
  {
   "cell_type": "code",
   "execution_count": 66,
   "metadata": {
    "collapsed": false,
    "scrolled": true
   },
   "outputs": [],
   "source": [
    "num_candidates = []\n",
    "bands = [2, 5, 10, 20]\n",
    "for num_bands in bands:\n",
    "    with open('../data/rcv1/headline.text.txt', 'rb') as fh:\n",
    "        feed = itertools.islice(fh, 1000)\n",
    "        candidates = candidate_duplicates(feed, char_ngram=5, seeds=100, bands=num_bands, hashbytes=4)\n",
    "        num_candidates.append(len(candidates))"
   ]
  },
  {
   "cell_type": "code",
   "execution_count": 67,
   "metadata": {
    "collapsed": false
   },
   "outputs": [
    {
     "data": {
      "image/png": "[encoded data removed]",
      "text/plain": [
       "<matplotlib.figure.Figure at 0x10a12ffd0>"
      ]
     },
     "metadata": {},
     "output_type": "display_data"
    }
   ],
   "source": [
    "fig, ax = plt.subplots(figsize=(8, 6))\n",
    "plt.bar(bands, num_candidates, align='center');\n",
    "plt.title('Number of candidate duplicate pairs found by LSH using 100 minhash fingerprint.');\n",
    "plt.xlabel('Number of bands');\n",
    "plt.xlabel('Number of candidate duplicates');\n",
    "plt.xticks(bands, bands);"
   ]
  },
  {
   "cell_type": "markdown",
   "metadata": {},
   "source": [
    "So the more promiscuous [4] version (20 bands per fingerprint) finds many more candidate pairs than the conservative 2 bands model. The first implication of this difference is that it leads to you having to do more comparisons to find the real duplicates. Let's see what that looks like in practice."
   ]
  },
  {
   "cell_type": "code",
   "execution_count": 93,
   "metadata": {
    "collapsed": false,
    "scrolled": false
   },
   "outputs": [],
   "source": [
    "lines = []\n",
    "with open('../data/rcv1/headline.text.txt', 'rb') as fh:\n",
    "    # read the first 1000 lines into memory so we can compare them\n",
    "    for line in itertools.islice(fh, 1000):\n",
    "        lines.append(line.decode('utf8'))\n",
    "    \n",
    "    # reset file pointer and do LSH\n",
    "    fh.seek(0)\n",
    "    feed = itertools.islice(fh, 1000)\n",
    "    candidates = candidate_duplicates(feed, char_ngram=5, seeds=100, bands=20, hashbytes=4)\n",
    "\n",
    "# go over all the generated candidates comparing their similarities\n",
    "similarities = []\n",
    "for (f_a, (line_a, docid_a)), (f_b, (line_b, docid_b)) in candidates:\n",
    "    doc_a, doc_b = lines[line_a], lines[line_b]\n",
    "    shingles_a = shingles(lines[line_a])\n",
    "    shingles_b = shingles(lines[line_b])\n",
    "    \n",
    "    jaccard_sim = jaccard(shingles_a, shingles_b)\n",
    "    f_a, f_b = set(f_a), set(f_b)\n",
    "    minhash_sim = len(f_a & f_b) / len(f_a | f_b)\n",
    "    similarities.append((docid_a, docid_b, jaccard_sim, minhash_sim))"
   ]
  },
  {
   "cell_type": "code",
   "execution_count": 72,
   "metadata": {
    "collapsed": false
   },
   "outputs": [
    {
     "name": "stdout",
     "output_type": "stream",
     "text": [
      "There are 101 candidate duplicates in total\n"
     ]
    },
    {
     "data": {
      "text/plain": [
       "[('2536', '2334', 0.8379651436646255, 0.7391304347826086),\n",
       " ('2889', '2883', 0.5324232081911263, 0.43884892086330934),\n",
       " ('2788', '2895', 0.2471655328798186, 0.16279069767441862),\n",
       " ('2372', '2332', 0.7001640689089418, 0.5267175572519084),\n",
       " ('2554', '2556', 0.6660666066606661, 0.4925373134328358),\n",
       " ('2865', '2762', 0.45588235294117646, 0.3333333333333333),\n",
       " ('2868', '2497', 0.97796817625459, 1.0),\n",
       " ('2500', '2501', 0.9816933638443935, 1.0),\n",
       " ('2941', '2762', 0.48120300751879697, 0.3793103448275862),\n",
       " ('2511', '2977', 0.7044592030360531, 0.5873015873015873),\n",
       " ('2863', '2860', 0.4676258992805755, 0.4084507042253521),\n",
       " ('2860', '2762', 0.3355263157894737, 0.27388535031847133),\n",
       " ('3005', '2994', 0.33774834437086093, 0.28205128205128205),\n",
       " ('2742', '2387', 0.6901698404529079, 0.45985401459854014),\n",
       " ('2542', '2399', 0.9192044748290864, 0.8691588785046729)]"
      ]
     },
     "execution_count": 72,
     "metadata": {},
     "output_type": "execute_result"
    }
   ],
   "source": [
    "import random\n",
    "\n",
    "print('There are {} candidate duplicates in total'.format(len(candidates)))\n",
    "random.sample(similarities, k=15)"
   ]
  },
  {
   "cell_type": "markdown",
   "metadata": {},
   "source": [
    "So LSH with 20 bands indeed finds a lot of candidates duplicate, some of which - for instance (2865, 2762) above - are not all that similar. Since we only did this for the first 1000 lines let's see how many LSH missed given some similarity threshold."
   ]
  },
  {
   "cell_type": "code",
   "execution_count": 74,
   "metadata": {
    "collapsed": true
   },
   "outputs": [],
   "source": [
    "sims_all = np.zeros((1000, 1000), dtype=np.float64)\n",
    "for i, line in enumerate(lines):\n",
    "    for j in range(i+1, len(lines)):\n",
    "        shingles_a = shingles(lines[i])\n",
    "        shingles_b = shingles(lines[j])\n",
    "        jaccard_sim = jaccard(shingles_a, shingles_b)\n",
    "        \n",
    "        # similarities are symmetric so we only care about the\n",
    "        # upper diagonal here and leave (j, i) to be 0\n",
    "        sims_all[i, j] = jaccard_sim"
   ]
  },
  {
   "cell_type": "code",
   "execution_count": 116,
   "metadata": {
    "collapsed": false
   },
   "outputs": [
    {
     "name": "stdout",
     "output_type": "stream",
     "text": [
      "Out of 27 pairs with similarity >= 90% 27 were found, that's 100.0%\n"
     ]
    }
   ],
   "source": [
    "# turn the candidates into a dictionary so we have easy access to\n",
    "# candidates pairs that were found\n",
    "candidates_dict = {(line_a, line_b): (docid_a, docid_b) for (_, (line_a, docid_a)), (_, (line_b, docid_b)) in candidates}\n",
    "found = 0\n",
    "for i in range(len(lines)):\n",
    "    for j in range(i+1, len(lines)):\n",
    "        if sims_all[i, j] >= .9:\n",
    "            # documents i and j have an actual Jaccard similarity >= 90%\n",
    "            found += ((i, j) in candidates_dict or (j, i) in candidates_dict)\n",
    "\n",
    "print('Out of {} pairs with similarity >= 90% {} were found, that\\'s {:.1%}'.format((sims_all >= .9).sum(), found, found / (sims_all >= .9).sum()))"
   ]
  },
  {
   "cell_type": "markdown",
   "metadata": {},
   "source": [
    "That seems pretty well inline with the <a href=\"#bands_rows\">figure</a> showing how setting bands and rows affects the probability of finding similar documents. So we're doing quite well in terms of the true positives, what about the false positives? 27 pairs of documents from the ones found were true positives, so the rest are false positives. Since LSH found 110 document pairs in total $110-27 = 83$ pairs were incorrect, that's 83 documents that were checked in vein in comparison to the 499000 pairs we would have had to go through for an all pairs comparison.\n",
    "\n",
    "_499000 is the number of entries on the upper diagonal of a $1000\\times1000$ matrix. Since document similarities are symmetric we only need to compare `i` to `j` not `j` to `i`, so that's $\\frac{1000\\times1000}{2}$. We also don't need compare `i` to `i` or `j` to `j` which cuts out the last 1000 entries on the diagonal._\n",
    "\n",
    "Just to be absolute"
   ]
  },
  {
   "cell_type": "markdown",
   "metadata": {
    "collapsed": true
   },
   "source": [
    "# References\n",
    "\n",
    "- [1] <cite>Reuters Corpora (RCV1, RCV2, TRC2)</cite> http://trec.nist.gov/data/reuters/reuters.html\n",
    "- [2] <cite>Amazon product data</cite> http://jmcauley.ucsd.edu/data/amazon/\n",
    "- [3] <cite>Mining Massive Datasets</cite> http://www.mmds.org http://infolab.stanford.edu/~ullman/mmds/ch3.pdf by `Leskovec, Rajamaran and Ullman`\n",
    "- [4] <cite>promiscuous</cite> demonstrating or implying an unselective approach; indiscriminate or casual: _the city fathers were promiscuous with their honours._"
   ]
  },
  {
   "cell_type": "code",
   "execution_count": 93,
   "metadata": {
    "collapsed": false
   },
   "outputs": [],
   "source": [
    "# preprocess RCV1 to be contained in a single file\n",
    "import glob, zipfile, re\n",
    "import xml.etree.ElementTree as ET\n",
    "\n",
    "files = glob.glob('../data/rcv1/xml/*.zip')\n",
    "with open('../data/rcv1/headline.text.txt', 'wb') as out:\n",
    "    for f in files:\n",
    "        zf = zipfile.ZipFile(f)\n",
    "        for zi in zf.namelist():\n",
    "            fh = zf.open(zi, 'r')\n",
    "            root = ET.fromstring(fh.read().decode('latin-1'))\n",
    "            itemid = root.attrib['itemid']\n",
    "            headline = root.find('./headline').text\n",
    "            text = ' '.join(root.find('./text').itertext())\n",
    "            text = re.sub('\\s+', ' ', text)\n",
    "            out.write(('{}\\t{} {}\\n'.format(itemid, headline, text)).encode('utf8'))"
   ]
  }
 ],
 "metadata": {
  "kernelspec": {
   "display_name": "Python 3",
   "language": "python",
   "name": "python3"
  },
  "language_info": {
   "codemirror_mode": {
    "name": "ipython",
    "version": 3
   },
   "file_extension": ".py",
   "mimetype": "text/x-python",
   "name": "python",
   "nbconvert_exporter": "python",
   "pygments_lexer": "ipython3",
   "version": "3.4.3"
  }
 },
 "nbformat": 4,
 "nbformat_minor": 0
}
